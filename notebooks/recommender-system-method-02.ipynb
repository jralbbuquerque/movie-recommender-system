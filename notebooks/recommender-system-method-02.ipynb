{
 "cells": [
  {
   "cell_type": "markdown",
   "metadata": {},
   "source": [
    "# Sistemas de Recomendação - Método 02\n",
    "\n",
    "Neste notebook vamos desenvolver outro simples sistema de recomendação usando Python, Pandas e Scikit Learn. Nosso objetivo é desenvolver um sistema um sistema basico capaz de realizar sugestões de filmes baseados nas avaliações dos usuários.\n",
    "\n",
    "Para esse exemplo usaremos o arquivo `ml-latest-small.zip`, o qual contêm um conjunto de dados reduzido."
   ]
  },
  {
   "cell_type": "markdown",
   "metadata": {},
   "source": [
    "------\n",
    "## Importa Bibliotecas"
   ]
  },
  {
   "cell_type": "code",
   "execution_count": 1,
   "metadata": {},
   "outputs": [],
   "source": [
    "import pandas as pd\n",
    "import numpy as np\n",
    "import matplotlib.pyplot as plt\n",
    "import seaborn as sns\n",
    "%matplotlib inline"
   ]
  },
  {
   "cell_type": "markdown",
   "metadata": {},
   "source": [
    "Os dados utilizados são provenientes da plataforma [MovieLens](https://grouplens.org/datasets/movielens/). Primeiramente vamos entender o conteúdo dos dados no arquivo `ratings.csv` responsávle por armazenar as notas dos usuários."
   ]
  },
  {
   "cell_type": "code",
   "execution_count": 2,
   "metadata": {},
   "outputs": [],
   "source": [
    "df_notas = pd.read_csv('../datasets/ml-latest-small/ratings.csv')"
   ]
  },
  {
   "cell_type": "code",
   "execution_count": 3,
   "metadata": {},
   "outputs": [
    {
     "data": {
      "text/html": [
       "<div>\n",
       "<style scoped>\n",
       "    .dataframe tbody tr th:only-of-type {\n",
       "        vertical-align: middle;\n",
       "    }\n",
       "\n",
       "    .dataframe tbody tr th {\n",
       "        vertical-align: top;\n",
       "    }\n",
       "\n",
       "    .dataframe thead th {\n",
       "        text-align: right;\n",
       "    }\n",
       "</style>\n",
       "<table border=\"1\" class=\"dataframe\">\n",
       "  <thead>\n",
       "    <tr style=\"text-align: right;\">\n",
       "      <th></th>\n",
       "      <th>userId</th>\n",
       "      <th>movieId</th>\n",
       "      <th>rating</th>\n",
       "      <th>timestamp</th>\n",
       "    </tr>\n",
       "  </thead>\n",
       "  <tbody>\n",
       "    <tr>\n",
       "      <th>0</th>\n",
       "      <td>1</td>\n",
       "      <td>1</td>\n",
       "      <td>4.0</td>\n",
       "      <td>964982703</td>\n",
       "    </tr>\n",
       "    <tr>\n",
       "      <th>1</th>\n",
       "      <td>1</td>\n",
       "      <td>3</td>\n",
       "      <td>4.0</td>\n",
       "      <td>964981247</td>\n",
       "    </tr>\n",
       "    <tr>\n",
       "      <th>2</th>\n",
       "      <td>1</td>\n",
       "      <td>6</td>\n",
       "      <td>4.0</td>\n",
       "      <td>964982224</td>\n",
       "    </tr>\n",
       "    <tr>\n",
       "      <th>3</th>\n",
       "      <td>1</td>\n",
       "      <td>47</td>\n",
       "      <td>5.0</td>\n",
       "      <td>964983815</td>\n",
       "    </tr>\n",
       "    <tr>\n",
       "      <th>4</th>\n",
       "      <td>1</td>\n",
       "      <td>50</td>\n",
       "      <td>5.0</td>\n",
       "      <td>964982931</td>\n",
       "    </tr>\n",
       "  </tbody>\n",
       "</table>\n",
       "</div>"
      ],
      "text/plain": [
       "   userId  movieId  rating  timestamp\n",
       "0       1        1     4.0  964982703\n",
       "1       1        3     4.0  964981247\n",
       "2       1        6     4.0  964982224\n",
       "3       1       47     5.0  964983815\n",
       "4       1       50     5.0  964982931"
      ]
     },
     "execution_count": 3,
     "metadata": {},
     "output_type": "execute_result"
    }
   ],
   "source": [
    "df_notas.head()"
   ]
  },
  {
   "cell_type": "markdown",
   "metadata": {},
   "source": [
    "Agora vamos explorar o arquivo `movies.csv` o qual contem o nome e outras informações importantes dos filmes contidos na base de dados `ratings.csv`"
   ]
  },
  {
   "cell_type": "code",
   "execution_count": 4,
   "metadata": {},
   "outputs": [],
   "source": [
    "df_filmes = pd.read_csv('../datasets/ml-latest-small/movies.csv')"
   ]
  },
  {
   "cell_type": "code",
   "execution_count": 5,
   "metadata": {},
   "outputs": [
    {
     "data": {
      "text/html": [
       "<div>\n",
       "<style scoped>\n",
       "    .dataframe tbody tr th:only-of-type {\n",
       "        vertical-align: middle;\n",
       "    }\n",
       "\n",
       "    .dataframe tbody tr th {\n",
       "        vertical-align: top;\n",
       "    }\n",
       "\n",
       "    .dataframe thead th {\n",
       "        text-align: right;\n",
       "    }\n",
       "</style>\n",
       "<table border=\"1\" class=\"dataframe\">\n",
       "  <thead>\n",
       "    <tr style=\"text-align: right;\">\n",
       "      <th></th>\n",
       "      <th>movieId</th>\n",
       "      <th>title</th>\n",
       "      <th>genres</th>\n",
       "    </tr>\n",
       "  </thead>\n",
       "  <tbody>\n",
       "    <tr>\n",
       "      <th>0</th>\n",
       "      <td>1</td>\n",
       "      <td>Toy Story (1995)</td>\n",
       "      <td>Adventure|Animation|Children|Comedy|Fantasy</td>\n",
       "    </tr>\n",
       "    <tr>\n",
       "      <th>1</th>\n",
       "      <td>2</td>\n",
       "      <td>Jumanji (1995)</td>\n",
       "      <td>Adventure|Children|Fantasy</td>\n",
       "    </tr>\n",
       "    <tr>\n",
       "      <th>2</th>\n",
       "      <td>3</td>\n",
       "      <td>Grumpier Old Men (1995)</td>\n",
       "      <td>Comedy|Romance</td>\n",
       "    </tr>\n",
       "    <tr>\n",
       "      <th>3</th>\n",
       "      <td>4</td>\n",
       "      <td>Waiting to Exhale (1995)</td>\n",
       "      <td>Comedy|Drama|Romance</td>\n",
       "    </tr>\n",
       "    <tr>\n",
       "      <th>4</th>\n",
       "      <td>5</td>\n",
       "      <td>Father of the Bride Part II (1995)</td>\n",
       "      <td>Comedy</td>\n",
       "    </tr>\n",
       "  </tbody>\n",
       "</table>\n",
       "</div>"
      ],
      "text/plain": [
       "   movieId                               title  \\\n",
       "0        1                    Toy Story (1995)   \n",
       "1        2                      Jumanji (1995)   \n",
       "2        3             Grumpier Old Men (1995)   \n",
       "3        4            Waiting to Exhale (1995)   \n",
       "4        5  Father of the Bride Part II (1995)   \n",
       "\n",
       "                                        genres  \n",
       "0  Adventure|Animation|Children|Comedy|Fantasy  \n",
       "1                   Adventure|Children|Fantasy  \n",
       "2                               Comedy|Romance  \n",
       "3                         Comedy|Drama|Romance  \n",
       "4                                       Comedy  "
      ]
     },
     "execution_count": 5,
     "metadata": {},
     "output_type": "execute_result"
    }
   ],
   "source": [
    "df_filmes.head()"
   ]
  },
  {
   "cell_type": "markdown",
   "metadata": {},
   "source": [
    "------\n",
    "## Sistemas de Recomendação\n",
    "\n",
    "Vamos explorar a utilização de um sistema de recomendação para filmes baseada na classificação dada por outros usuários. Para uma comprenssão mais detalhada do seu funcioamento leia o artigo presente [neste link](https://www.ibm.com/developerworks/br/local/data/sistemas_recomendacao/index.html).\n",
    "\n",
    "<img width='500px' src='https://www.ibm.com/developerworks/br/local/data/sistemas_recomendacao/image001_s.jpg' />\n",
    "\n",
    "Quando trata-se de sistemas de recomendação podemos citar três tipos:\n",
    "* **Baseado em Conteúdo:** O sistema recomenda ao usuário produtos que sejam semelhantes ao que ele preferiu no passado. Em um cenário de recomendação de filmes, por exemplo, um usuário que, assiste e gosta do filme \"Matrix\" teria recomendações do gênero ação e ficção científica.\n",
    "* **Filtragem Colaborativa:** O sistema recomenda itens baseado em em gosto de outros usuários. A regra baseia-se em: \"Se um usuário gostou de A e de B, um outro usuário que gostou de A também pode gostar de B\"\n",
    "* **Sistemas Hibrídos:** Consiste em um sistema que combina as duas abordagens mencionadas, tentando fortificá-las e superar suas desvantagens."
   ]
  },
  {
   "cell_type": "markdown",
   "metadata": {},
   "source": [
    "-----\n",
    "### Método 2\n",
    "\n",
    "Agora testaremos outro método. Para isso usaremos a librarie [Surprise](http://surpriselib.com/) a qual detêm inumeros algoritmos de previsão para sistemas de recomendação, como: SVD, NMF, SlopeOne, KNN, dentre outros. Para esse exemplo usaremos o algoritmo o famoso SVD, para compreender melhor o seu funcionamento acesse [este link](https://medium.com/@m_n_malaeb/singular-value-decomposition-svd-in-recommender-systems-for-non-math-statistics-programming-4a622de653e9)."
   ]
  },
  {
   "cell_type": "code",
   "execution_count": 6,
   "metadata": {},
   "outputs": [],
   "source": [
    "from collections import defaultdict\n",
    "from surprise import Reader, Dataset\n",
    "from surprise import SVD\n",
    "from surprise.accuracy import rmse\n",
    "from surprise.model_selection import train_test_split"
   ]
  },
  {
   "cell_type": "markdown",
   "metadata": {},
   "source": [
    "Vamos criar a estrutura de dados légivel do surprise."
   ]
  },
  {
   "cell_type": "code",
   "execution_count": 7,
   "metadata": {},
   "outputs": [
    {
     "data": {
      "text/plain": [
       "<surprise.dataset.DatasetAutoFolds at 0x1cdfe30a7b8>"
      ]
     },
     "execution_count": 7,
     "metadata": {},
     "output_type": "execute_result"
    }
   ],
   "source": [
    "reader = Reader(rating_scale=(0.5, 5.0))\n",
    "data = Dataset.load_from_df(df_notas[['userId', 'movieId', 'rating']], reader)\n",
    "\n",
    "data"
   ]
  },
  {
   "cell_type": "markdown",
   "metadata": {},
   "source": [
    "Feito isso, vamos atribir o objeto SVD a uma variável algo. Além disso, definiremos (empiricamente) alguns parâmetros para melhorar a performace do algorimo. Sinto a vontade para alterar esses parâmetros."
   ]
  },
  {
   "cell_type": "code",
   "execution_count": 8,
   "metadata": {},
   "outputs": [],
   "source": [
    "# Parâmetros para o objeto SVD\n",
    "factors = 35\n",
    "epochs = 25\n",
    "lr_value = 0.008\n",
    "reg_value = 0.08"
   ]
  },
  {
   "cell_type": "code",
   "execution_count": 9,
   "metadata": {},
   "outputs": [],
   "source": [
    "algo = SVD(n_factors=factors, n_epochs=epochs, lr_all=lr_value, reg_all=reg_value)"
   ]
  },
  {
   "cell_type": "markdown",
   "metadata": {},
   "source": [
    "Vamos dividir nosso dados em treino e teste e estimar o RMSE do nosso modelo."
   ]
  },
  {
   "cell_type": "code",
   "execution_count": 10,
   "metadata": {},
   "outputs": [],
   "source": [
    "trainset, testset = train_test_split(data, test_size=0.25) "
   ]
  },
  {
   "cell_type": "code",
   "execution_count": 11,
   "metadata": {},
   "outputs": [],
   "source": [
    "predictions = algo.fit(trainset).test(testset)"
   ]
  },
  {
   "cell_type": "code",
   "execution_count": 12,
   "metadata": {},
   "outputs": [
    {
     "name": "stdout",
     "output_type": "stream",
     "text": [
      "RMSE: 0.8700\n"
     ]
    },
    {
     "data": {
      "text/plain": [
       "0.86996462335584"
      ]
     },
     "execution_count": 12,
     "metadata": {},
     "output_type": "execute_result"
    }
   ],
   "source": [
    "rmse(predictions)"
   ]
  },
  {
   "cell_type": "markdown",
   "metadata": {},
   "source": [
    "Vamos checar o conteúdo das nossas predições."
   ]
  },
  {
   "cell_type": "code",
   "execution_count": 13,
   "metadata": {},
   "outputs": [
    {
     "data": {
      "text/plain": [
       "[Prediction(uid=357, iid=33794, r_ui=4.0, est=4.0892002002777215, details={'was_impossible': False}),\n",
       " Prediction(uid=603, iid=2575, r_ui=4.0, est=3.271860646915173, details={'was_impossible': False}),\n",
       " Prediction(uid=357, iid=1080, r_ui=5.0, est=4.165774334877863, details={'was_impossible': False}),\n",
       " Prediction(uid=508, iid=3317, r_ui=2.0, est=2.543230078753657, details={'was_impossible': False}),\n",
       " Prediction(uid=180, iid=2723, r_ui=3.0, est=3.2343141254722223, details={'was_impossible': False})]"
      ]
     },
     "execution_count": 13,
     "metadata": {},
     "output_type": "execute_result"
    }
   ],
   "source": [
    "predictions[0:5]"
   ]
  },
  {
   "cell_type": "markdown",
   "metadata": {},
   "source": [
    "Notamos que foram geradas diversas variáveis que possuem sua documentação no [site do surprise](https://surprise.readthedocs.io/en/stable/predictions_module.html). Dessa forma, vamos verificar quão boas ou ruins são nossas previsões. A função a seguir criará uma DataFrame que terá as seguintes colunas.\n",
    "\n",
    "* `UID`: id do usuário\n",
    "* `iid`: id do filme\n",
    "* `Rui`: a classificação dada pelo usuário\n",
    "* `est`: classificação estimada pelo modelo\n",
    "* `Iu`: nenhum dos itens classificados pelo usuário\n",
    "* `UI`: número de usuários que classificaram este filme\n",
    "* `err`: diferença abs entre a classificação prevista e a classificação real."
   ]
  },
  {
   "cell_type": "code",
   "execution_count": 14,
   "metadata": {},
   "outputs": [],
   "source": [
    "def get_Iu(uid):\n",
    "    \"\"\" \n",
    "    args: \n",
    "      uid: o id do usuárop\n",
    "    returns: \n",
    "      o número de filmes classificados pelo usuário\n",
    "    \"\"\"\n",
    "    try:\n",
    "        return len(trainset.ur[trainset.to_inner_uid(uid)])\n",
    "    except ValueError: # usuário não está contido no dataset de treino\n",
    "        return 0\n",
    "    \n",
    "def get_Ui(iid):\n",
    "    \"\"\" \n",
    "    args:\n",
    "      iid: o id do filme\n",
    "    returns:\n",
    "      o número de usuários que avaliaram esse filme\n",
    "    \"\"\"\n",
    "    try: \n",
    "        return len(trainset.ir[trainset.to_inner_iid(iid)])\n",
    "    except ValueError:\n",
    "        return 0"
   ]
  },
  {
   "cell_type": "code",
   "execution_count": 15,
   "metadata": {},
   "outputs": [],
   "source": [
    "# Cria um dataframe com o resultados das predições\n",
    "df_predictions = pd.DataFrame(predictions, columns=['uid', 'iid', 'rui', 'est', 'details'])"
   ]
  },
  {
   "cell_type": "code",
   "execution_count": 16,
   "metadata": {},
   "outputs": [],
   "source": [
    "# Calcula os demais parâmetros\n",
    "df_predictions['Iu'] = df_predictions['uid'].apply(get_Iu)\n",
    "df_predictions['Ui'] = df_predictions['iid'].apply(get_Ui)\n",
    "df_predictions['err'] = abs(df_predictions['est'] - df_predictions['rui'])"
   ]
  },
  {
   "cell_type": "code",
   "execution_count": 17,
   "metadata": {},
   "outputs": [
    {
     "data": {
      "text/html": [
       "<div>\n",
       "<style scoped>\n",
       "    .dataframe tbody tr th:only-of-type {\n",
       "        vertical-align: middle;\n",
       "    }\n",
       "\n",
       "    .dataframe tbody tr th {\n",
       "        vertical-align: top;\n",
       "    }\n",
       "\n",
       "    .dataframe thead th {\n",
       "        text-align: right;\n",
       "    }\n",
       "</style>\n",
       "<table border=\"1\" class=\"dataframe\">\n",
       "  <thead>\n",
       "    <tr style=\"text-align: right;\">\n",
       "      <th></th>\n",
       "      <th>uid</th>\n",
       "      <th>iid</th>\n",
       "      <th>rui</th>\n",
       "      <th>est</th>\n",
       "      <th>details</th>\n",
       "      <th>Iu</th>\n",
       "      <th>Ui</th>\n",
       "      <th>err</th>\n",
       "    </tr>\n",
       "  </thead>\n",
       "  <tbody>\n",
       "    <tr>\n",
       "      <th>0</th>\n",
       "      <td>357</td>\n",
       "      <td>33794</td>\n",
       "      <td>4.0</td>\n",
       "      <td>4.089200</td>\n",
       "      <td>{'was_impossible': False}</td>\n",
       "      <td>289</td>\n",
       "      <td>90</td>\n",
       "      <td>0.089200</td>\n",
       "    </tr>\n",
       "    <tr>\n",
       "      <th>1</th>\n",
       "      <td>603</td>\n",
       "      <td>2575</td>\n",
       "      <td>4.0</td>\n",
       "      <td>3.271861</td>\n",
       "      <td>{'was_impossible': False}</td>\n",
       "      <td>706</td>\n",
       "      <td>3</td>\n",
       "      <td>0.728139</td>\n",
       "    </tr>\n",
       "    <tr>\n",
       "      <th>2</th>\n",
       "      <td>357</td>\n",
       "      <td>1080</td>\n",
       "      <td>5.0</td>\n",
       "      <td>4.165774</td>\n",
       "      <td>{'was_impossible': False}</td>\n",
       "      <td>289</td>\n",
       "      <td>62</td>\n",
       "      <td>0.834226</td>\n",
       "    </tr>\n",
       "    <tr>\n",
       "      <th>3</th>\n",
       "      <td>508</td>\n",
       "      <td>3317</td>\n",
       "      <td>2.0</td>\n",
       "      <td>2.543230</td>\n",
       "      <td>{'was_impossible': False}</td>\n",
       "      <td>19</td>\n",
       "      <td>12</td>\n",
       "      <td>0.543230</td>\n",
       "    </tr>\n",
       "    <tr>\n",
       "      <th>4</th>\n",
       "      <td>180</td>\n",
       "      <td>2723</td>\n",
       "      <td>3.0</td>\n",
       "      <td>3.234314</td>\n",
       "      <td>{'was_impossible': False}</td>\n",
       "      <td>19</td>\n",
       "      <td>29</td>\n",
       "      <td>0.234314</td>\n",
       "    </tr>\n",
       "  </tbody>\n",
       "</table>\n",
       "</div>"
      ],
      "text/plain": [
       "   uid    iid  rui       est                    details   Iu  Ui       err\n",
       "0  357  33794  4.0  4.089200  {'was_impossible': False}  289  90  0.089200\n",
       "1  603   2575  4.0  3.271861  {'was_impossible': False}  706   3  0.728139\n",
       "2  357   1080  5.0  4.165774  {'was_impossible': False}  289  62  0.834226\n",
       "3  508   3317  2.0  2.543230  {'was_impossible': False}   19  12  0.543230\n",
       "4  180   2723  3.0  3.234314  {'was_impossible': False}   19  29  0.234314"
      ]
     },
     "execution_count": 17,
     "metadata": {},
     "output_type": "execute_result"
    }
   ],
   "source": [
    "df_predictions.head()"
   ]
  },
  {
   "cell_type": "markdown",
   "metadata": {},
   "source": [
    "Agora vamos checar algumas recomendações baseadas nas avaliações realizadas pelos usuários."
   ]
  },
  {
   "cell_type": "code",
   "execution_count": 18,
   "metadata": {},
   "outputs": [],
   "source": [
    "# Não divide o conjunto de dados em teste e treino\n",
    "trainset = data.build_full_trainset()"
   ]
  },
  {
   "cell_type": "code",
   "execution_count": 19,
   "metadata": {},
   "outputs": [
    {
     "data": {
      "text/plain": [
       "<surprise.prediction_algorithms.matrix_factorization.SVD at 0x1cdfe3d0860>"
      ]
     },
     "execution_count": 19,
     "metadata": {},
     "output_type": "execute_result"
    }
   ],
   "source": [
    "algo = SVD(n_factors=factors, n_epochs=epochs, lr_all=lr_value, reg_all=reg_value)\n",
    "algo.fit(trainset)"
   ]
  },
  {
   "cell_type": "code",
   "execution_count": 20,
   "metadata": {},
   "outputs": [],
   "source": [
    "# Prevê as classificações para todos os pares (u, i) que NÃO estão no conjunto de treinamento.\n",
    "testset = trainset.build_anti_testset()\n",
    "\n",
    "# Prevê as notas para o conjunto de teste\n",
    "predictions = algo.test(testset)"
   ]
  },
  {
   "cell_type": "code",
   "execution_count": 21,
   "metadata": {},
   "outputs": [],
   "source": [
    "def get_all_predictions(predictions):\n",
    "    \"\"\" \n",
    "    args:\n",
    "      predictions: as predições de cada usuário\n",
    "    returns:\n",
    "      top_n: dict com as predições ordenadas\n",
    "    \"\"\"\n",
    "    # Inicialmente vamos mapear as previsões de cada usuário\n",
    "    top_n = defaultdict(list)\n",
    "    \n",
    "    for uid, iid, true_r, est, _ in predictions:\n",
    "        top_n[uid].append((iid, est))\n",
    "\n",
    "    # Então vamos ordenar os usuários\n",
    "    for uid, user_ratings in top_n.items():\n",
    "        user_ratings.sort(key=lambda x: x[1], reverse=True)\n",
    "\n",
    "    return top_n"
   ]
  },
  {
   "cell_type": "code",
   "execution_count": 22,
   "metadata": {},
   "outputs": [],
   "source": [
    "all_pred = get_all_predictions(predictions)"
   ]
  },
  {
   "cell_type": "markdown",
   "metadata": {},
   "source": [
    "Agora vamos identificar as 5 principais recomendações baseado no histórico do usuário"
   ]
  },
  {
   "cell_type": "code",
   "execution_count": 23,
   "metadata": {},
   "outputs": [],
   "source": [
    "#To get top 4 reommendation\n",
    "n = 5\n",
    "\n",
    "for uid, user_ratings in all_pred.items():\n",
    "    user_ratings.sort(key=lambda x: x[1], reverse=True)\n",
    "    all_pred[uid] = user_ratings[:n]"
   ]
  },
  {
   "cell_type": "code",
   "execution_count": 24,
   "metadata": {},
   "outputs": [],
   "source": [
    "tmp = pd.DataFrame.from_dict(all_pred)\n",
    "tmp_transpose = tmp.transpose()"
   ]
  },
  {
   "cell_type": "code",
   "execution_count": 25,
   "metadata": {},
   "outputs": [
    {
     "data": {
      "text/html": [
       "<div>\n",
       "<style scoped>\n",
       "    .dataframe tbody tr th:only-of-type {\n",
       "        vertical-align: middle;\n",
       "    }\n",
       "\n",
       "    .dataframe tbody tr th {\n",
       "        vertical-align: top;\n",
       "    }\n",
       "\n",
       "    .dataframe thead th {\n",
       "        text-align: right;\n",
       "    }\n",
       "</style>\n",
       "<table border=\"1\" class=\"dataframe\">\n",
       "  <thead>\n",
       "    <tr style=\"text-align: right;\">\n",
       "      <th></th>\n",
       "      <th>0</th>\n",
       "      <th>1</th>\n",
       "      <th>2</th>\n",
       "      <th>3</th>\n",
       "      <th>4</th>\n",
       "    </tr>\n",
       "  </thead>\n",
       "  <tbody>\n",
       "    <tr>\n",
       "      <th>1</th>\n",
       "      <td>(318, 5.0)</td>\n",
       "      <td>(720, 5.0)</td>\n",
       "      <td>(912, 5.0)</td>\n",
       "      <td>(930, 5.0)</td>\n",
       "      <td>(2324, 5.0)</td>\n",
       "    </tr>\n",
       "    <tr>\n",
       "      <th>2</th>\n",
       "      <td>(951, 4.457544638028725)</td>\n",
       "      <td>(177593, 4.450745916955722)</td>\n",
       "      <td>(3451, 4.442460454899721)</td>\n",
       "      <td>(1041, 4.423438864916136)</td>\n",
       "      <td>(1104, 4.410398872572914)</td>\n",
       "    </tr>\n",
       "    <tr>\n",
       "      <th>3</th>\n",
       "      <td>(899, 3.7388597499270793)</td>\n",
       "      <td>(2360, 3.5786611575659344)</td>\n",
       "      <td>(122926, 3.5136999199969217)</td>\n",
       "      <td>(58559, 3.511603525356694)</td>\n",
       "      <td>(56782, 3.5100842254704685)</td>\n",
       "    </tr>\n",
       "    <tr>\n",
       "      <th>4</th>\n",
       "      <td>(47629, 4.38161812265284)</td>\n",
       "      <td>(1041, 4.3517921104075725)</td>\n",
       "      <td>(5747, 4.346552826348474)</td>\n",
       "      <td>(8132, 4.31132702609768)</td>\n",
       "      <td>(1178, 4.305531741501966)</td>\n",
       "    </tr>\n",
       "    <tr>\n",
       "      <th>5</th>\n",
       "      <td>(177593, 4.454752474654791)</td>\n",
       "      <td>(750, 4.390112701610291)</td>\n",
       "      <td>(3266, 4.321130948950757)</td>\n",
       "      <td>(27156, 4.299915506938349)</td>\n",
       "      <td>(1041, 4.288654321694549)</td>\n",
       "    </tr>\n",
       "  </tbody>\n",
       "</table>\n",
       "</div>"
      ],
      "text/plain": [
       "                             0                            1  \\\n",
       "1                   (318, 5.0)                   (720, 5.0)   \n",
       "2     (951, 4.457544638028725)  (177593, 4.450745916955722)   \n",
       "3    (899, 3.7388597499270793)   (2360, 3.5786611575659344)   \n",
       "4    (47629, 4.38161812265284)   (1041, 4.3517921104075725)   \n",
       "5  (177593, 4.454752474654791)     (750, 4.390112701610291)   \n",
       "\n",
       "                              2                           3  \\\n",
       "1                    (912, 5.0)                  (930, 5.0)   \n",
       "2     (3451, 4.442460454899721)   (1041, 4.423438864916136)   \n",
       "3  (122926, 3.5136999199969217)  (58559, 3.511603525356694)   \n",
       "4     (5747, 4.346552826348474)    (8132, 4.31132702609768)   \n",
       "5     (3266, 4.321130948950757)  (27156, 4.299915506938349)   \n",
       "\n",
       "                             4  \n",
       "1                  (2324, 5.0)  \n",
       "2    (1104, 4.410398872572914)  \n",
       "3  (56782, 3.5100842254704685)  \n",
       "4    (1178, 4.305531741501966)  \n",
       "5    (1041, 4.288654321694549)  "
      ]
     },
     "execution_count": 25,
     "metadata": {},
     "output_type": "execute_result"
    }
   ],
   "source": [
    "tmp_transpose.head()"
   ]
  },
  {
   "cell_type": "markdown",
   "metadata": {},
   "source": [
    "Agora, temos um DataFrame que consiste nos 5 principais filmes recomendados para todos os usuários.\n",
    "Vamos tentar um exemplo e encontrar recomendações para o usuário 67."
   ]
  },
  {
   "cell_type": "code",
   "execution_count": 26,
   "metadata": {},
   "outputs": [],
   "source": [
    "def get_predictions(user_id):\n",
    "    results = tmp_transpose.loc[user_id]\n",
    "    return results"
   ]
  },
  {
   "cell_type": "code",
   "execution_count": 27,
   "metadata": {},
   "outputs": [
    {
     "data": {
      "text/plain": [
       "0    (177593, 4.491415882796029)\n",
       "1      (3451, 4.482683390138332)\n",
       "2      (1104, 4.426604501871211)\n",
       "3      (1223, 4.412225473933734)\n",
       "4      (1204, 4.389667369302512)\n",
       "Name: 67, dtype: object"
      ]
     },
     "execution_count": 27,
     "metadata": {},
     "output_type": "execute_result"
    }
   ],
   "source": [
    "user_id = 67\n",
    "results = get_predictions(user_id)\n",
    "results"
   ]
  },
  {
   "cell_type": "markdown",
   "metadata": {},
   "source": [
    "Vamos extrair o índice dos filmes recomendados."
   ]
  },
  {
   "cell_type": "code",
   "execution_count": 28,
   "metadata": {},
   "outputs": [
    {
     "data": {
      "text/plain": [
       "[177593, 3451, 1104, 1223, 1204]"
      ]
     },
     "execution_count": 28,
     "metadata": {},
     "output_type": "execute_result"
    }
   ],
   "source": [
    "recommended_movie_ids = []\n",
    "\n",
    "for i in range(0, n):\n",
    "    recommended_movie_ids.append(results[i][0])\n",
    "\n",
    "recommended_movie_ids"
   ]
  },
  {
   "cell_type": "markdown",
   "metadata": {},
   "source": [
    "Vamos encontrar outros detalhes sobre os filmes recomendados."
   ]
  },
  {
   "cell_type": "code",
   "execution_count": 29,
   "metadata": {},
   "outputs": [
    {
     "data": {
      "text/html": [
       "<div>\n",
       "<style scoped>\n",
       "    .dataframe tbody tr th:only-of-type {\n",
       "        vertical-align: middle;\n",
       "    }\n",
       "\n",
       "    .dataframe tbody tr th {\n",
       "        vertical-align: top;\n",
       "    }\n",
       "\n",
       "    .dataframe thead th {\n",
       "        text-align: right;\n",
       "    }\n",
       "</style>\n",
       "<table border=\"1\" class=\"dataframe\">\n",
       "  <thead>\n",
       "    <tr style=\"text-align: right;\">\n",
       "      <th></th>\n",
       "      <th>movieId</th>\n",
       "      <th>title</th>\n",
       "      <th>genres</th>\n",
       "    </tr>\n",
       "  </thead>\n",
       "  <tbody>\n",
       "    <tr>\n",
       "      <th>841</th>\n",
       "      <td>1104</td>\n",
       "      <td>Streetcar Named Desire, A (1951)</td>\n",
       "      <td>Drama</td>\n",
       "    </tr>\n",
       "    <tr>\n",
       "      <th>906</th>\n",
       "      <td>1204</td>\n",
       "      <td>Lawrence of Arabia (1962)</td>\n",
       "      <td>Adventure|Drama|War</td>\n",
       "    </tr>\n",
       "    <tr>\n",
       "      <th>924</th>\n",
       "      <td>1223</td>\n",
       "      <td>Grand Day Out with Wallace and Gromit, A (1989)</td>\n",
       "      <td>Adventure|Animation|Children|Comedy|Sci-Fi</td>\n",
       "    </tr>\n",
       "    <tr>\n",
       "      <th>2582</th>\n",
       "      <td>3451</td>\n",
       "      <td>Guess Who's Coming to Dinner (1967)</td>\n",
       "      <td>Drama</td>\n",
       "    </tr>\n",
       "    <tr>\n",
       "      <th>9618</th>\n",
       "      <td>177593</td>\n",
       "      <td>Three Billboards Outside Ebbing, Missouri (2017)</td>\n",
       "      <td>Crime|Drama</td>\n",
       "    </tr>\n",
       "  </tbody>\n",
       "</table>\n",
       "</div>"
      ],
      "text/plain": [
       "      movieId                                             title  \\\n",
       "841      1104                  Streetcar Named Desire, A (1951)   \n",
       "906      1204                         Lawrence of Arabia (1962)   \n",
       "924      1223   Grand Day Out with Wallace and Gromit, A (1989)   \n",
       "2582     3451               Guess Who's Coming to Dinner (1967)   \n",
       "9618   177593  Three Billboards Outside Ebbing, Missouri (2017)   \n",
       "\n",
       "                                          genres  \n",
       "841                                        Drama  \n",
       "906                          Adventure|Drama|War  \n",
       "924   Adventure|Animation|Children|Comedy|Sci-Fi  \n",
       "2582                                       Drama  \n",
       "9618                                 Crime|Drama  "
      ]
     },
     "execution_count": 29,
     "metadata": {},
     "output_type": "execute_result"
    }
   ],
   "source": [
    "recommended_movie = df_filmes[df_filmes['movieId'].isin(recommended_movie_ids)]\n",
    "recommended_movie"
   ]
  },
  {
   "cell_type": "markdown",
   "metadata": {},
   "source": [
    "Dessa forma temos as principais indicações para qualquer usuário específico"
   ]
  }
 ],
 "metadata": {
  "kernelspec": {
   "display_name": "Python 3",
   "language": "python",
   "name": "python3"
  },
  "language_info": {
   "codemirror_mode": {
    "name": "ipython",
    "version": 3
   },
   "file_extension": ".py",
   "mimetype": "text/x-python",
   "name": "python",
   "nbconvert_exporter": "python",
   "pygments_lexer": "ipython3",
   "version": "3.6.5"
  }
 },
 "nbformat": 4,
 "nbformat_minor": 4
}
